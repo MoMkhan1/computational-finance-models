{
 "cells": [
  {
   "cell_type": "code",
   "execution_count": 1,
   "metadata": {},
   "outputs": [
    {
     "name": "stdout",
     "output_type": "stream",
     "text": [
      "European Call Option Price: 10.43\n",
      "European Put Option Price: 5.55\n"
     ]
    },
    {
     "data": {
      "text/plain": [
       "<Figure size 1000x600 with 1 Axes>"
      ]
     },
     "metadata": {},
     "output_type": "display_data"
    },
    {
     "data": {
      "text/plain": [
       "<Figure size 1000x600 with 1 Axes>"
      ]
     },
     "metadata": {},
     "output_type": "display_data"
    }
   ],
   "source": [
    "import numpy as np\n",
    "import matplotlib.pyplot as plt\n",
    "import os\n",
    "\n",
    "# Binomial model for European call and put options\n",
    "def binomial_tree(S0, K, T, r, sigma, n, option_type=\"call\"):\n",
    "    dt = T / n\n",
    "    u = np.exp(sigma * np.sqrt(dt))\n",
    "    d = 1 / u\n",
    "    p = (np.exp(r * dt) - d) / (u - d)\n",
    "\n",
    "    ST = np.zeros((n + 1, n + 1))\n",
    "    for i in range(n + 1):\n",
    "        for j in range(i + 1):\n",
    "            ST[j, i] = S0 * (u ** (i - j)) * (d ** j)\n",
    "\n",
    "    option_tree = np.zeros((n + 1, n + 1))\n",
    "    for j in range(n + 1):\n",
    "        if option_type == \"call\":\n",
    "            option_tree[j, n] = max(0, ST[j, n] - K)\n",
    "        elif option_type == \"put\":\n",
    "            option_tree[j, n] = max(0, K - ST[j, n])\n",
    "\n",
    "    for i in range(n - 1, -1, -1):\n",
    "        for j in range(i + 1):\n",
    "            option_tree[j, i] = np.exp(-r * dt) * (\n",
    "                p * option_tree[j, i + 1] + (1 - p) * option_tree[j + 1, i + 1]\n",
    "            )\n",
    "\n",
    "    return option_tree, ST\n",
    "\n",
    "# Parameters\n",
    "S0 = 100      # Initial stock price\n",
    "K = 100       # Strike price\n",
    "T = 1         # Time to expiration (1 year)\n",
    "r = 0.05      # Risk-free interest rate\n",
    "sigma = 0.2   # Volatility\n",
    "n = 100       # Number of time steps\n",
    "\n",
    "# Generate option trees\n",
    "call_tree, _ = binomial_tree(S0, K, T, r, sigma, n, option_type=\"call\")\n",
    "put_tree, _ = binomial_tree(S0, K, T, r, sigma, n, option_type=\"put\")\n",
    "\n",
    "# Print results\n",
    "print(f\"European Call Option Price: {call_tree[0, 0]:.2f}\")\n",
    "print(f\"European Put Option Price: {put_tree[0, 0]:.2f}\")\n",
    "\n",
    "# Time axis\n",
    "time_steps = np.linspace(0, T, n + 1)\n",
    "\n",
    "# Save directory for GitHub\n",
    "save_dir = r\"F:\\GITHUB\\computational-finance-models\\chart\"\n",
    "os.makedirs(save_dir, exist_ok=True)\n",
    "\n",
    "# Plot: Figure 3.1 - European Call Option Price Evolution\n",
    "plt.figure(figsize=(10, 6))\n",
    "plt.plot(time_steps, call_tree[0, :], 'b-', linewidth=2, label=\"Call Option Price\")\n",
    "plt.xlabel(\"Time to Expiration (Years)\")\n",
    "plt.ylabel(\"Call Option Price\")\n",
    "plt.title(\"Figure 3.1: European Call Option Price Evolution\")\n",
    "plt.grid(True)\n",
    "plt.legend()\n",
    "plt.tight_layout()\n",
    "plt.savefig(os.path.join(save_dir, \"Figure_3_1_European_Call_Option_Price_Evolution.png\"))\n",
    "plt.show()\n",
    "\n",
    "# Plot: Figure 3.2 - European Put Option Price Evolution\n",
    "plt.figure(figsize=(10, 6))\n",
    "plt.plot(time_steps, put_tree[0, :], 'r-', linewidth=2, label=\"Put Option Price\")\n",
    "plt.xlabel(\"Time to Expiration (Years)\")\n",
    "plt.ylabel(\"Put Option Price\")\n",
    "plt.title(\"Figure 3.2: European Put Option Price Evolution\")\n",
    "plt.grid(True)\n",
    "plt.legend()\n",
    "plt.tight_layout()\n",
    "plt.savefig(os.path.join(save_dir, \"Figure_3_2_European_Put_Option_Price_Evolution.png\"))\n",
    "plt.show()\n"
   ]
  },
  {
   "cell_type": "code",
   "execution_count": null,
   "metadata": {},
   "outputs": [],
   "source": []
  }
 ],
 "metadata": {
  "kernelspec": {
   "display_name": "SageMath 9.1",
   "language": "sage",
   "name": "sagemath"
  },
  "language_info": {
   "codemirror_mode": {
    "name": "ipython",
    "version": 3
   },
   "file_extension": ".py",
   "mimetype": "text/x-python",
   "name": "python",
   "nbconvert_exporter": "python",
   "pygments_lexer": "ipython3",
   "version": "3.7.3"
  }
 },
 "nbformat": 4,
 "nbformat_minor": 2
}
